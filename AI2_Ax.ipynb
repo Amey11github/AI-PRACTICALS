{
 "cells": [
  {
   "cell_type": "code",
   "execution_count": 4,
   "id": "a0ad6735",
   "metadata": {},
   "outputs": [
    {
     "name": "stdout",
     "output_type": "stream",
     "text": [
      "Path found: ['A', 'E', 'D', 'G']\n"
     ]
    },
    {
     "data": {
      "text/plain": [
       "['A', 'E', 'D', 'G']"
      ]
     },
     "execution_count": 4,
     "metadata": {},
     "output_type": "execute_result"
    }
   ],
   "source": [
    "def aStarAlgo(start_node, stop_node):\n",
    "    open_set = set(start_node)\n",
    "    closed_set = set()\n",
    "    g = {}               #store distance from starting node\n",
    "    parents = {}         # parents contains an adjacency map of all nodes\n",
    "    #distance of starting node from itself is zero\n",
    "    g[start_node] = 0\n",
    "    #start_node is root node i.e it has no parent nodes\n",
    "    parents[start_node] = start_node\n",
    "\n",
    "    while len(open_set) > 0:\n",
    "        n = None\n",
    "        #node with lowest f() is found\n",
    "        for v in open_set:\n",
    "            #if first node then n==none otherwise for other node we are calculating f value and comparing current node and previuos node f value\n",
    "            if n == None or g[v] + heuristic(v) < g[n] + heuristic(n):       \n",
    "                n = v\n",
    "        if n == stop_node or Graph_nodes[n] == None:\n",
    "            pass\n",
    "\n",
    "        #for intermediate node\n",
    "        else:\n",
    "            for (m, weight) in get_neighbors(n):\n",
    "                # if we are encountering new node \n",
    "                if m not in open_set and m not in closed_set:\n",
    "                    open_set.add(m)\n",
    "                    parents[m] = n\n",
    "                    g[m] = g[n] + weight\n",
    "                #for each node m,compare its distance from start i.e g(m) to the\n",
    "                #from start through n node\n",
    "                else:\n",
    "                    # if new node path is greater than previous then we are updating path with least cost\n",
    "                    if g[m] > g[n] + weight:\n",
    "                        g[m] = g[n] + weight\n",
    "                        #change parent of m to n\n",
    "                        parents[m] = n\n",
    "                        #if m in closed set,remove and add to open\n",
    "                        if m in closed_set:\n",
    "                            # need to explore again that why added in open_list\n",
    "                            closed_set.remove(m)\n",
    "                            open_set.add(m)\n",
    "        if n == None:\n",
    "            print('Path does not exist!')\n",
    "            return None\n",
    "        \n",
    "        # if the current node is the stop_node then we can go back to the path from it to the start\n",
    "        if n == stop_node:\n",
    "            path = []\n",
    "            while parents[n] != n:\n",
    "                path.append(n)\n",
    "                n = parents[n]\n",
    "            path.append(start_node)\n",
    "            path.reverse()\n",
    "            print('Path found: {}'.format(path))\n",
    "            return path\n",
    "        # remove n from the open_list, and add it to closed_list\n",
    "        # because all of his neighbors were inspected\n",
    "        open_set.remove(n)\n",
    "        closed_set.add(n)\n",
    "    print('Path does not exist!')\n",
    "    return None\n",
    "\n",
    "def get_neighbors(v):\n",
    "    if v in Graph_nodes:\n",
    "        return Graph_nodes[v]\n",
    "    else:\n",
    "        return None\n",
    "\n",
    "def heuristic(n):\n",
    "    H_dist = {\n",
    "        'A': 11,\n",
    "        'B': 6,\n",
    "        'C': 99,\n",
    "        'D': 1,\n",
    "        'E': 7,\n",
    "        'G': 0,\n",
    "    }\n",
    "    return H_dist[n]\n",
    "\n",
    "Graph_nodes = {\n",
    "    'A': [('B', 2), ('E', 3)],\n",
    "    'B': [('A', 2), ('C', 1), ('G', 9)],\n",
    "    'C': [('B', 1)],\n",
    "    'D': [('E', 6), ('G', 1)],\n",
    "    'E': [('A', 3), ('D', 6)],\n",
    "    'G': [('B', 9), ('D', 1)]\n",
    "}\n",
    "\n",
    "aStarAlgo('A', 'G')"
   ]
  },
  {
   "cell_type": "markdown",
   "id": "4a5ee96f",
   "metadata": {},
   "source": [
    "This code is an implementation of the A* (A-star) algorithm. A* is a popular pathfinding algorithm commonly used in artificial intelligence and robotics for finding the shortest path between two points in a graph. It utilizes a heuristic function to guide the search process, making it more efficient than uninformed search algorithms like Dijkstra's algorithm.\n",
    "\n",
    "In this implementation:\n",
    "\n",
    "- The `aStarAlgo` function performs the A* search algorithm to find the shortest path between a `start_node` and a `stop_node` in a graph.\n",
    "- The `heuristic` function provides a heuristic estimate of the cost from a given node to the goal node. It is used to prioritize nodes during the search.\n",
    "- The `get_neighbors` function returns the neighbors of a given node in the graph.\n",
    "- The `Graph_nodes` dictionary represents the graph, where each node maps to a list of its neighboring nodes along with their edge weights.\n",
    "\n",
    "Overall, this code demonstrates how the A* algorithm can be applied to find the shortest path in a graph, considering both the actual cost from the start node (`g` values) and an estimated cost to the goal node (`heuristic` values)."
   ]
  },
  {
   "cell_type": "code",
   "execution_count": null,
   "id": "8ac8d0dd",
   "metadata": {},
   "outputs": [],
   "source": []
  }
 ],
 "metadata": {
  "kernelspec": {
   "display_name": "Python 3 (ipykernel)",
   "language": "python",
   "name": "python3"
  },
  "language_info": {
   "codemirror_mode": {
    "name": "ipython",
    "version": 3
   },
   "file_extension": ".py",
   "mimetype": "text/x-python",
   "name": "python",
   "nbconvert_exporter": "python",
   "pygments_lexer": "ipython3",
   "version": "3.11.4"
  }
 },
 "nbformat": 4,
 "nbformat_minor": 5
}
