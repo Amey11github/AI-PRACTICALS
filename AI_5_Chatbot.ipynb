{
 "cells": [
  {
   "cell_type": "code",
   "execution_count": null,
   "id": "c6c1f803",
   "metadata": {},
   "outputs": [
    {
     "name": "stdout",
     "output_type": "stream",
     "text": [
      "Hello! I'm a chatbot. Ask me anything!\n",
      "What's your name?\n",
      "My name is Chatbot.\n"
     ]
    }
   ],
   "source": [
    "import random\n",
    "import datetime\n",
    "import webbrowser\n",
    "\n",
    "\n",
    "# Define a dictionary of pre-defined responses\n",
    "responses = {\n",
    "    \"What's your name?\": \"My name is Chatbot.\",\n",
    "    \"How old are you?\": \"I don't have an age. I'm a machine.\",\n",
    "    \"Where do you live?\": \"I live in the computer.\",\n",
    "    \"What's your favorite color?\": \"I don't have a favorite color.\",\n",
    "    \"What's your favorite food?\": \"I don't eat food. I'm a machine.\",\n",
    "    \"Do you have any pets?\": \"No, I don't have any pets.\",\n",
    "    \"What's your hobby?\": \"I don't have hobbies. I'm a chatbot.\",\n",
    "    \"What's your job?\": \"My job is to chat with people.\",\n",
    "    \"What's your favorite movie?\": \"I don't watch movies. I'm a machine.\",\n",
    "    \"What's your favorite book?\": \"I don't read books. I'm a chatbot.\",\n",
    "    \"Do you like sports?\": \"I don't have opinions about sports. I'm a machine.\",\n",
    "    \"What's your favorite sport?\": \"I don't have a favorite sport. I'm a chatbot.\",\n",
    "    \"What's your favorite music genre?\": \"I don't have preferences for music genres.\",\n",
    "    \"Do you play any instruments?\": \"No, I don't play any instruments.\",\n",
    "    \"What's your favorite holiday?\": \"I don't have a favorite holiday.\",\n",
    "    \"What's your favorite place to visit?\": \"I don't travel. I'm a machine.\",\n",
    "    \"What's your favorite animal?\": \"I don't have a favorite animal. I'm a chatbot.\",\n",
    "    \"What's your favorite thing to do?\": \"I like chatting with people.\",\n",
    "    \"Do you prefer tea or coffee?\": \"I don't drink beverages. I'm a machine.\",\n",
    "    \"What's your favorite season?\": \"I don't have a favorite season. I'm a chatbot.\",\n",
    "}\n",
    "\n",
    "# Define a function to handle the chatbot's responses\n",
    "def chatbot_response(user_input):\n",
    "    # Answer the current time if the user input contains \"time\"\n",
    "    if \"time\" in user_input:\n",
    "        current_time = datetime.datetime.now().strftime(\"%H:%M:%S\")\n",
    "        current_year = datetime.datetime.now().strftime(\"%Y\")\n",
    "        return f\"The current time in India is {current_time} on {current_year}.\"\n",
    "    if \"open google\" in user_input:\n",
    "        webbrowser.open(\"https://www.google.com/\")\n",
    "        return \"Opening Google...\"\n",
    "    if \"open youtube\" in user_input:\n",
    "        webbrowser.open(\"https://www.youtube.com/\")\n",
    "        return \"Opening youtube...\"\n",
    "    # Otherwise, check if the user input matches a pre-defined response\n",
    "    for question, response in responses.items():\n",
    "        if user_input.lower() == question.lower():\n",
    "            return response\n",
    "    # If no pre-defined response is found, generate a random response\n",
    "    return random.choice([\"Interesting!\", \"Tell me more.\", \"I see.\", \"That's cool.\", \"Really?\"])\n",
    "\n",
    "# Start the chatbot\n",
    "print(\"Hello! I'm a chatbot. Ask me anything!\")\n",
    "while True:\n",
    "    # Get the user's input\n",
    "    user_input = input()\n",
    "    # Check if the user wants to quit\n",
    "    if user_input.lower() == \"quit\":\n",
    "        break\n",
    "    # Respond\n",
    "    response = chatbot_response(user_input)\n",
    "    print(response)"
   ]
  },
  {
   "cell_type": "code",
   "execution_count": null,
   "id": "3e9888d6",
   "metadata": {},
   "outputs": [],
   "source": []
  }
 ],
 "metadata": {
  "kernelspec": {
   "display_name": "Python 3 (ipykernel)",
   "language": "python",
   "name": "python3"
  },
  "language_info": {
   "codemirror_mode": {
    "name": "ipython",
    "version": 3
   },
   "file_extension": ".py",
   "mimetype": "text/x-python",
   "name": "python",
   "nbconvert_exporter": "python",
   "pygments_lexer": "ipython3",
   "version": "3.11.4"
  }
 },
 "nbformat": 4,
 "nbformat_minor": 5
}
