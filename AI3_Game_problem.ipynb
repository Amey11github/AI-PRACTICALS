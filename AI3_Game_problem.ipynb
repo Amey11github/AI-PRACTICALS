{
 "cells": [
  {
   "cell_type": "code",
   "execution_count": 1,
   "id": "a2d8db7f",
   "metadata": {},
   "outputs": [
    {
     "name": "stdout",
     "output_type": "stream",
     "text": [
      "Sorted array: [11, 12, 22, 25, 64]\n"
     ]
    }
   ],
   "source": [
    "def selection_sort(arr):\n",
    "    n = len(arr)\n",
    "    for i in range(n):\n",
    "        # Find the minimum element in the unsorted part of the array\n",
    "        min_index = i\n",
    "        for j in range(i+1, n):\n",
    "            if arr[j] < arr[min_index]:\n",
    "                min_index = j\n",
    "        # Swap the minimum element with the first element of the unsorted part\n",
    "        arr[i], arr[min_index] = arr[min_index], arr[i]\n",
    "    return arr\n",
    "\n",
    "# Example usage:\n",
    "arr = [64, 25, 12, 22, 11]\n",
    "sorted_arr = selection_sort(arr)\n",
    "print(\"Sorted array:\", sorted_arr)\n"
   ]
  },
  {
   "cell_type": "markdown",
   "id": "2a450a2b",
   "metadata": {},
   "source": [
    "In this implementation:\n",
    "\n",
    "We iterate through the array and for each iteration, we find the minimum element in the unsorted part of the array.\n",
    "We swap the minimum element with the first element of the unsorted part.\n",
    "This process continues until the entire array is sorted.\n",
    "The Selection Sort algorithm is simple but not very efficient, especially for large arrays, as its time complexity is O(n^2). However, it can be a good example to illustrate the Greedy approach, where at each step, we make the locally optimal choice by selecting the minimum element."
   ]
  }
 ],
 "metadata": {
  "kernelspec": {
   "display_name": "Python 3 (ipykernel)",
   "language": "python",
   "name": "python3"
  },
  "language_info": {
   "codemirror_mode": {
    "name": "ipython",
    "version": 3
   },
   "file_extension": ".py",
   "mimetype": "text/x-python",
   "name": "python",
   "nbconvert_exporter": "python",
   "pygments_lexer": "ipython3",
   "version": "3.11.4"
  }
 },
 "nbformat": 4,
 "nbformat_minor": 5
}
